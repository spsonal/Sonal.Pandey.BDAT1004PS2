{
 "cells": [
  {
   "cell_type": "markdown",
   "id": "1556868c",
   "metadata": {},
   "source": [
    "# BDAT 1004 PROBLEM SET 2"
   ]
  },
  {
   "cell_type": "markdown",
   "id": "3c75c485",
   "metadata": {},
   "source": [
    "### Question 1"
   ]
  },
  {
   "cell_type": "markdown",
   "id": "1b7b4d72",
   "metadata": {},
   "source": [
    "### Consider the following Python module:\n",
    "#### a = 0<br><br><br>def b():<br><br>    global a<br><br>    a = c(a)<br><br><br>def c(a):<br><br>    return a + 2\n",
    "### After importing the module into the interpreter, you execute:\n",
    "#### >>> b()<br><br>>>> b()<br><br>>>> b()<br><br>>>> a<br><br>?\n",
    "### What value is displayed when the last expression (a) is evaluated? Explain your answer by indicating what happens in every executed statement."
   ]
  },
  {
   "cell_type": "code",
   "execution_count": 2,
   "id": "a3432d16",
   "metadata": {},
   "outputs": [
    {
     "name": "stdout",
     "output_type": "stream",
     "text": [
      "Value of a :  6\n"
     ]
    }
   ],
   "source": [
    "a =0                                            # Initialize the variable 'a' with a value of 0\n",
    "\n",
    "def b():                        \n",
    "    global a                                    # Use 'global' to specify that we want to modify the variable 'a'\n",
    "    a = c(a)                                    # Call the function 'c(a)' with the current value of 'a' and assign the returned value back to 'a' \n",
    "    \n",
    "def c(a):                        \n",
    "    return a + 2                                # Add 2 to the value of 'a' and return the result \n",
    "\n",
    "b()                                             # Call the function 'b()' for the first time\n",
    "b()                                             # Call the function 'b()' for the second time\n",
    "b()                                             # Call the function 'b()' for the third time \n",
    "print(\"Value of a : \",a)                        # Display the value of the global variable 'a'"
   ]
  },
  {
   "cell_type": "markdown",
   "id": "a668cd5d",
   "metadata": {},
   "source": [
    "####  Examining each statement that was executed in order to comprehend the programme:\n",
    "<ol>\n",
    "    <li>b(): The function b() receives its initial call. Global an is used within the function to indicate that changing the global variable a rather than generating a new local variable is what we want to do. With the current value of a (which is 0), the function c(a) is called. Within c(a), the value of an is increased by 2, and the new value is then returned. A's updated value is 2, as it is a global variable.</li>\n",
    "    <li>B(): The b() method receives a second call. Global variable an is once more changed using global an. The function c(a) is called with a set to its current value, which is 2. The value of a (2) is raised by 2 inside of c(a), resulting in 4, which is then returned as the new value. In the global variable a, A is changed to 4.</li>\n",
    "    <li>B(): This is the third time the b() function has been called. To change the global variable a, use global a. With the current value of a, which is 4, the function c(a) is called. The new value is returned as 6 after the value of a (4) is increased by 2 inside of c(a). Updated to 6, the global variable a.</li>\n",
    "    <li>After running b() three times, the value of the global variable a—now 6—is displayed.</li>\n",
    "</ol>\n",
    "\n",
    "#### As a result, the value shown when an is evaluated is 6.<br><br>"
   ]
  },
  {
   "cell_type": "markdown",
   "id": "f4d047f7",
   "metadata": {},
   "source": [
    "### Question 2"
   ]
  },
  {
   "cell_type": "markdown",
   "id": "31548b80",
   "metadata": {},
   "source": [
    "### Function fileLength(), given to you, takes the name of a file as input and returns the length of the file:\n",
    "#### >>> fileLength('midterm.py')<br>284<br>>>> fileLength('idterm.py')<br>Traceback (most recent call last):<br>File \"<pyshell#34>\", line 1, in <module\"><br>fileLength('idterm.py')<br>File \"/Users/me/midterm.py\", line 3, in fileLength<br>infile = open(filename)<br>FileNotFoundError: [Errno 2] No such file or directory:<br>'idterm.py'\n",
    "### As shown above, if the file cannot be found by the interpreter or if it cannot be read as a text file, an exception will be raised. Modify function fileLength() so that a friendly message is printed instead:\n",
    "#### >>> fileLength('midterm.py')<br>358<br>>>> fileLength('idterm.py')<br>File idterm.py not found.\n"
   ]
  },
  {
   "cell_type": "code",
   "execution_count": 11,
   "id": "84412377",
   "metadata": {},
   "outputs": [
    {
     "name": "stdout",
     "output_type": "stream",
     "text": [
      "634\n",
      "File idterm.py not found.\n"
     ]
    }
   ],
   "source": [
    "def file_length(file_name):\n",
    "    try:\n",
    "        file = open(file_name)                                 # Try to open the file\n",
    "        contents = file.read()                                 # Read the contents of the file\n",
    "        file.close()                                           # Close the file\n",
    "        print(len(contents))                                   # Print the length of the contents\n",
    "    except FileNotFoundError:\n",
    "        print(\"File \"+file_name+\" not found.\")                 # Print a friendly message if the file is not found\n",
    "    \n",
    "\n",
    "file_length('midterm.py')                                      # Existing file\n",
    "file_length('idterm.py')                                       # Non-existing file\n"
   ]
  },
  {
   "cell_type": "markdown",
   "id": "48722ab1",
   "metadata": {},
   "source": [
    "### Question 3"
   ]
  },
  {
   "cell_type": "markdown",
   "id": "b6b5c696",
   "metadata": {},
   "source": [
    "### Write a class named Marsupial that can be used as shown below:\n",
    "#### >>> m = Marsupial()<br><br>>>> m.put_in_pouch('doll')<br><br>>>> m.put_in_pouch('firetruck')<br><br>>>> m.put_in_pouch('kitten')<br><br>>>> m.pouch_contents()<br><br>['doll', 'firetruck', 'kitten']<br>\n",
    "### Now write a class named Kangaroo as a subclass of Marsupial that inherits all the attributes of Marsupial and also:<br>a. extends the Marsupial \"__init__\" constructor to take, as input, the coordinates x and y of the Kangaroo object,<br>b. supports method jump that takes number values dx and dy as input and moves the kangaroo by dx units along the x-axis and by dy units along the yaxis, and<br>c. overloads the \"__str__\" operator so it behaves as shown below.\n",
    "#### >>> k = Kangaroo(0,0)<br>>>> print(k)<br>I am a Kangaroo located at coordinates (0,0)<br>>>> k.put_in_pouch('doll')<br>>>> k.put_in_pouch('firetruck')<br>>>> k.put_in_pouch('kitten')<br>>>> k.pouch_contents()<br>['doll', 'firetruck', 'kitten']<br>>>> k.jump(1,0)<br>>>> k.jump(1,0)<br>>>> k.jump(1,0)<br>>>> print(k)<br>I am a Kangaroo located at coordinates (3,0)"
   ]
  },
  {
   "cell_type": "code",
   "execution_count": 1,
   "id": "516c2e2f",
   "metadata": {},
   "outputs": [
    {
     "name": "stdout",
     "output_type": "stream",
     "text": [
      "['doll', 'firetruck', 'kitten']\n"
     ]
    }
   ],
   "source": [
    "class Marsupial:\n",
    "    def __init__(self):\n",
    "        self.pouch = []                           # Initialize an empty list to store pouch contents\n",
    "    \n",
    "    def put_in_pouch(self, item):\n",
    "        self.pouch.append(item)                   # Add an item to the pouch\n",
    "    \n",
    "    def pouch_contents(self):\n",
    "        return self.pouch                         # Return the contents of the pouch\n",
    "\n",
    "\n",
    "m = Marsupial()\n",
    "m.put_in_pouch('doll')\n",
    "m.put_in_pouch('firetruck')\n",
    "m.put_in_pouch('kitten')\n",
    "print(m.pouch_contents())  \n",
    "\n"
   ]
  },
  {
   "cell_type": "code",
   "execution_count": 2,
   "id": "d5dd6e47",
   "metadata": {},
   "outputs": [
    {
     "name": "stdout",
     "output_type": "stream",
     "text": [
      "I am a Kangaroo located at coordinates (0,0)\n",
      "['doll', 'firetruck', 'kitten']\n",
      "I am a Kangaroo located at coordinates (3,0)\n"
     ]
    }
   ],
   "source": [
    "class Marsupial:\n",
    "    def __init__(self):\n",
    "        self.pouch = []                           # Initialize an empty list to store pouch contents\n",
    "    \n",
    "    def put_in_pouch(self, item):\n",
    "        self.pouch.append(item)                   # Add an item to the pouch\n",
    "    \n",
    "    def pouch_contents(self):\n",
    "        return self.pouch                         # Return the contents of the pouch\n",
    "\n",
    "\n",
    "class Kangaroo(Marsupial):\n",
    "    def __init__(self, x, y):\n",
    "        super().__init__()                        # Call the superclass Marsupial's constructor\n",
    "        self.x = x                                # Initialize the x-coordinate of the Kangaroo\n",
    "        self.y = y                                # Initialize the y-coordinate of the Kangaroo\n",
    "    \n",
    "    def jump(self, dx, dy):\n",
    "        self.x += dx                              # Move the Kangaroo along the x-axis by dx units\n",
    "        self.y += dy                              # Move the Kangaroo along the y-axis by dy units\n",
    "    \n",
    "    def __str__(self):\n",
    "        return f\"I am a Kangaroo located at coordinates ({self.x},{self.y})\"\n",
    "\n",
    "\n",
    "\n",
    "\n",
    "k = Kangaroo(0, 0)\n",
    "print(k)  \n",
    "k.put_in_pouch('doll')\n",
    "k.put_in_pouch('firetruck')\n",
    "k.put_in_pouch('kitten')\n",
    "print(k.pouch_contents())  \n",
    "k.jump(1, 0)\n",
    "k.jump(1, 0)\n",
    "k.jump(1, 0)\n",
    "print(k)  \n"
   ]
  },
  {
   "cell_type": "markdown",
   "id": "29d0bba8",
   "metadata": {},
   "source": [
    "### Question 4"
   ]
  },
  {
   "cell_type": "markdown",
   "id": "265148c5",
   "metadata": {},
   "source": [
    "### Write function collatz() that takes a positive integer x as input and prints the Collatz sequence starting at x. A Collatz sequence is obtained by repeatedly applying this rule to the previous number x in the sequence:\n",
    "#### x = \n",
    "> 𝑥/2    𝑖𝑓 𝑥 𝑖𝑠 𝑒𝑣𝑒𝑛<br>3𝑥 + 1   𝑖𝑓 𝑥 𝑖𝑠 𝑜𝑑𝑑\n",
    "### Your function should stop when the sequence gets to number 1. Your implementation must be recursive, without any loops.\n",
    "#### >>> collatz(1)<br>1<br>>>> collatz(10)<br>10<br>5<br>16<br>8<br>4<br>2<br>1"
   ]
  },
  {
   "cell_type": "code",
   "execution_count": 3,
   "id": "c17e4f25",
   "metadata": {},
   "outputs": [
    {
     "name": "stdout",
     "output_type": "stream",
     "text": [
      "1\n"
     ]
    }
   ],
   "source": [
    "def collatz(x):\n",
    "    print(x)                                     # Print the current number in the sequence\n",
    "    \n",
    "    # Base case: Stop when the number reaches 1\n",
    "    if x == 1:\n",
    "        return\n",
    "    \n",
    "    # Recursive case: Calculate the next number in the sequence based on the Collatz rule\n",
    "    if x % 2 == 0:\n",
    "        collatz(x // 2)                         # If x is even, divide it by 2\n",
    "    else:\n",
    "        collatz(3 * x + 1)                      # If x is odd, multiply it by 3 and add 1\n",
    "\n",
    "\n",
    "\n",
    "collatz(1)\n"
   ]
  },
  {
   "cell_type": "code",
   "execution_count": 4,
   "id": "5bcfe409",
   "metadata": {},
   "outputs": [
    {
     "name": "stdout",
     "output_type": "stream",
     "text": [
      "10\n",
      "5\n",
      "16\n",
      "8\n",
      "4\n",
      "2\n",
      "1\n"
     ]
    }
   ],
   "source": [
    "collatz(10)"
   ]
  },
  {
   "cell_type": "markdown",
   "id": "c26c42c2",
   "metadata": {},
   "source": [
    "### Question 5\n",
    "### Write a recursive method binary() that takes a non-negative integer n and prints the binary representation of integer n.\n",
    "#### >>> binary(0)<br>0<br>>>> binary(1)<br>1<br>>>> binary(3)<br>11<br>>> binary(9)<br>1001"
   ]
  },
  {
   "cell_type": "code",
   "execution_count": 36,
   "id": "ec5b3f61",
   "metadata": {},
   "outputs": [
    {
     "data": {
      "text/plain": [
       "0"
      ]
     },
     "execution_count": 36,
     "metadata": {},
     "output_type": "execute_result"
    }
   ],
   "source": [
    "def binary(n):\n",
    "    if n == 0:\n",
    "        return 0\n",
    "    elif n > 0:\n",
    "        return (n % 2 + 10 * binary(int(n // 2)))\n",
    "    else:\n",
    "        print('It is a Negative Number')\n",
    "binary(0)"
   ]
  },
  {
   "cell_type": "code",
   "execution_count": 37,
   "id": "04b992bf",
   "metadata": {},
   "outputs": [
    {
     "data": {
      "text/plain": [
       "1"
      ]
     },
     "execution_count": 37,
     "metadata": {},
     "output_type": "execute_result"
    }
   ],
   "source": [
    "binary(1)\n"
   ]
  },
  {
   "cell_type": "code",
   "execution_count": 39,
   "id": "6453b2f0",
   "metadata": {},
   "outputs": [
    {
     "data": {
      "text/plain": [
       "11"
      ]
     },
     "execution_count": 39,
     "metadata": {},
     "output_type": "execute_result"
    }
   ],
   "source": [
    "binary(3)"
   ]
  },
  {
   "cell_type": "code",
   "execution_count": 40,
   "id": "17e458e5",
   "metadata": {},
   "outputs": [
    {
     "data": {
      "text/plain": [
       "1001"
      ]
     },
     "execution_count": 40,
     "metadata": {},
     "output_type": "execute_result"
    }
   ],
   "source": [
    "binary(9)"
   ]
  },
  {
   "cell_type": "markdown",
   "id": "f372a020",
   "metadata": {},
   "source": [
    "### Question 6\n",
    "### Implement a class named HeadingParser that can be used to parse an HTML document, and retrieve and print all the headings in the document. You should implement your class as a subclass of HTMLParser, defined in Standard Library module html.parser. When fed a string containing HTML code, your class should print the headings, one per line and in the order in which they appear in the document. Each heading should be indented as follows: an h1 heading should have indentation 0, and h2 heading should have indentation 1, etc. Test your implementation using w3c.html.\n",
    "#### >>> infile = open('w3c.html')<br>>>> content = infile.read()<br>>>> infile.close()<br>>>> hp = HeadingParser()<br>>>> hp.feed(content)<br>W3C Mission<br>Principles"
   ]
  },
  {
   "cell_type": "code",
   "execution_count": 21,
   "id": "9365565d",
   "metadata": {},
   "outputs": [
    {
     "name": "stdout",
     "output_type": "stream",
     "text": [
      "W3C Mission\n",
      " Principles\n"
     ]
    }
   ],
   "source": [
    "from html.parser import HTMLParser\n",
    "\n",
    "\n",
    "class HeadingParser(HTMLParser):\n",
    "    def __init__(self):\n",
    "        super().__init__()\n",
    "        self.indentation = 0\n",
    "        self.in_heading = False\n",
    "\n",
    "    def handle_starttag(self, tag, attrs):\n",
    "        if tag.startswith(\"h\") and len(tag) == 2 and tag[1].isdigit():\n",
    "            self.indentation = int(tag[1]) - 1\n",
    "            self.in_heading = True\n",
    "\n",
    "    def handle_endtag(self, tag):\n",
    "        if tag.startswith(\"h\"):\n",
    "            self.in_heading = False\n",
    "\n",
    "    def handle_data(self, data):\n",
    "        if self.in_heading:\n",
    "            indentation_spaces = \" \" * self.indentation\n",
    "            print(f\"{indentation_spaces}{data.strip()}\")\n",
    "\n",
    "\n",
    "\n",
    "infile = open('w3c.html')\n",
    "content = infile.read()\n",
    "infile.close()\n",
    "\n",
    "hp = HeadingParser()\n",
    "hp.feed(content)\n"
   ]
  },
  {
   "cell_type": "markdown",
   "id": "0f891e23",
   "metadata": {},
   "source": [
    "### Question 7\n",
    "### Implement recursive function webdir() that takes as input: a URL (as a string) and non-negative integers depth and indent. Your function should visit every web page reachable from the starting URL web page in depth clicks or less, and print each web page's URL. As shown below, indentation, specified by indent, should be used to indicate the depth of a URL.\n",
    "#### >>><br>webdir('http://reed.cs.depaul.edu/lperkovic/csc242/test1.html', 2, 0)<br><br>http://reed.cs.depaul.edu/lperkovic/csc242/test1.html<br> http://reed.cs.depaul.edu/lperkovic/csc242/test2.html<br> http://reed.cs.depaul.edu/lperkovic/csc242/test4.html<br> http://reed.cs.depaul.edu/lperkovic/csc242/test3.html<br>http://reed.cs.depaul.edu/lperkovic/csc242/test4.html"
   ]
  },
  {
   "cell_type": "code",
   "execution_count": 27,
   "id": "3ababdaa",
   "metadata": {},
   "outputs": [
    {
     "name": "stdout",
     "output_type": "stream",
     "text": [
      "http://reed.cs.depaul.edu/lperkovic/csc242/test1.html\n",
      "http://reed.cs.depaul.edu/lperkovic/csc242/test2.html\n",
      "http://reed.cs.depaul.edu/lperkovic/csc242/test3.html\n",
      "http://reed.cs.depaul.edu/lperkovic/csc242/test4.html\n"
     ]
    }
   ],
   "source": [
    "import requests\n",
    "from bs4 import BeautifulSoup\n",
    "\n",
    "def webdir(url, depth, indent):\n",
    "    if depth == 0:\n",
    "        return\n",
    "\n",
    "    response = requests.get(url)\n",
    "    soup = BeautifulSoup(response.text, 'html.parser')\n",
    "\n",
    "    print(' ' * indent + url)\n",
    "\n",
    "    for link in soup.find_all('a'):\n",
    "        href = link.get('href')\n",
    "        if href.startswith('http'):\n",
    "            webdir(href, depth - 1, indent + 1)\n",
    "\n",
    "\n",
    "webdir('http://reed.cs.depaul.edu/lperkovic/csc242/test1.html', 2, 0)\n",
    "webdir('http://reed.cs.depaul.edu/lperkovic/csc242/test2.html', 2, 0)\n",
    "webdir('http://reed.cs.depaul.edu/lperkovic/csc242/test3.html', 2, 0)\n",
    "webdir('http://reed.cs.depaul.edu/lperkovic/csc242/test4.html', 2, 0)\n"
   ]
  },
  {
   "cell_type": "markdown",
   "id": "7754983f",
   "metadata": {},
   "source": [
    "### Question 8\n",
    "### Write SQL queries on the below database table that return:<br><br>a) All the temperature data.<br><br>b) All the cities, but without repetition.<br><br>c) All the records for India.<br><br>d) All the Fall records.<br><br>e) The city, country, and season for which the average rainfall is between 200 and 400 millimeters.<br><br>f) The city and country for which the average Fall temperature is above 20 degrees, in increasing temperature order.<br><br>g) The total annual rainfall for Cairo.<br><br>h) The total rainfall for each season.\n",
    "|  CITY    | COUNTRY          | SEASON   | TEMPERATURE (C)   | RAINFALL (mm)   |\n",
    "| :------: | :--------------: | :------: | :---------------: | :-------------: |\n",
    "| Mumbai   | India            | Winter   |    24.8           |  5.9            |\n",
    "| Mumbai   | India            | Spring   |    28.4           |  16.2           |\n",
    "| Mumbai   | India            | Summer   |    27.9           |  1549.4         |\n",
    "| Mumbai   | India            | Fall     |    27.6           |  346.0          |\n",
    "| London   | United Kingdom   | Winter   |    4.2            |  207.7          |\n",
    "| London   | United Kingdom   | Spring   |    8.3            |  169.6          |\n",
    "| London   | United Kingdom   | Summer   |    15.7           |  157.0          |\n",
    "| London   | United Kingdom   | Fall     |    10.4           |  218.5          |\n",
    "| Cairo    | Egypt            | Winter   |    13.6           |  16.5           |\n",
    "| Cairo    | Egypt            | Spring   |    20.7           |  6.5            |\n",
    "| Cairo    | Egypt            | Summer   |    27.7           |  0.1            |\n",
    "| Cairo    | Egypt            | Fall     |    22.2           |  4.5            |"
   ]
  },
  {
   "cell_type": "code",
   "execution_count": 9,
   "id": "c0220201",
   "metadata": {},
   "outputs": [
    {
     "data": {
      "text/plain": [
       "<sqlite3.Cursor at 0x23d8f23b960>"
      ]
     },
     "execution_count": 9,
     "metadata": {},
     "output_type": "execute_result"
    }
   ],
   "source": [
    "import sqlite3\n",
    "connnection = sqlite3.connect('sample.db')    #Sample Datababase Connection\n",
    "cur = connnection.cursor()\n",
    "cur.execute(\"CREATE TABLE weather (City text, Country text, Season text,Temperature float,Rainfall float)\")\n",
    "#Create Table for City Weather Data"
   ]
  },
  {
   "cell_type": "code",
   "execution_count": 10,
   "id": "73fd34e3",
   "metadata": {},
   "outputs": [
    {
     "data": {
      "text/plain": [
       "<sqlite3.Cursor at 0x23d8f23b960>"
      ]
     },
     "execution_count": 10,
     "metadata": {},
     "output_type": "execute_result"
    }
   ],
   "source": [
    "cur.execute(\"INSERT INTO weather VALUES ('Mumbai', 'India', 'Winter',24.8,5.9)\")\n",
    "cur.execute(\"INSERT INTO weather VALUES ('Mumbai', 'India', 'Spring',28.4,16.2)\")\n",
    "cur.execute(\"INSERT INTO weather VALUES ('Mumbai', 'India', 'Summer',27.9,1549.4 )\")\n",
    "cur.execute(\"INSERT INTO weather VALUES ('Mumbai', 'India', 'Fall',27.6,346.0)\")\n",
    "cur.execute(\"INSERT INTO weather VALUES ('London', 'United Kingdom', 'Winter',4.2,207.7 )\")\n",
    "cur.execute(\"INSERT INTO weather VALUES ('London', 'United Kingdom', 'Spring',8.3,169.6)\")\n",
    "cur.execute(\"INSERT INTO weather VALUES ('London', 'United Kingdom', 'Summer',15.7,157.0)\")\n",
    "cur.execute(\"INSERT INTO weather VALUES ('London', 'United Kingdom', 'Fall',10.4,218.5)\")\n",
    "cur.execute(\"INSERT INTO weather VALUES ('Cairo', 'Egypt', 'Winter',13.6,16.5)\")\n",
    "cur.execute(\"INSERT INTO weather VALUES ('Cairo', 'Egypt', 'Spring',20.7,6.5)\")\n",
    "cur.execute(\"INSERT INTO weather VALUES ('Cairo', 'Egypt', 'Summer',27.7,0.1)\")\n",
    "cur.execute(\"INSERT INTO weather VALUES ('Cairo', 'Egypt', 'Fall',22.2,4.5)\")"
   ]
  },
  {
   "cell_type": "markdown",
   "id": "8b61f73e",
   "metadata": {},
   "source": [
    "### Running select query to print all table rows"
   ]
  },
  {
   "cell_type": "code",
   "execution_count": 11,
   "id": "bd07a25e",
   "metadata": {
    "scrolled": true
   },
   "outputs": [
    {
     "name": "stdout",
     "output_type": "stream",
     "text": [
      "('Mumbai', 'India', 'Winter', 24.8, 5.9)\n",
      "('Mumbai', 'India', 'Spring', 28.4, 16.2)\n",
      "('Mumbai', 'India', 'Summer', 27.9, 1549.4)\n",
      "('Mumbai', 'India', 'Fall', 27.6, 346.0)\n",
      "('London', 'United Kingdom', 'Winter', 4.2, 207.7)\n",
      "('London', 'United Kingdom', 'Spring', 8.3, 169.6)\n",
      "('London', 'United Kingdom', 'Summer', 15.7, 157.0)\n",
      "('London', 'United Kingdom', 'Fall', 10.4, 218.5)\n",
      "('Cairo', 'Egypt', 'Winter', 13.6, 16.5)\n",
      "('Cairo', 'Egypt', 'Spring', 20.7, 6.5)\n",
      "('Cairo', 'Egypt', 'Summer', 27.7, 0.1)\n",
      "('Cairo', 'Egypt', 'Fall', 22.2, 4.5)\n"
     ]
    }
   ],
   "source": [
    "cur.execute('SELECT * FROM weather')\n",
    "content=cur.fetchall()\n",
    "for cells in content:\n",
    "    print(cells)"
   ]
  },
  {
   "cell_type": "markdown",
   "id": "c0a2e5f7",
   "metadata": {},
   "source": [
    "### 8a"
   ]
  },
  {
   "cell_type": "code",
   "execution_count": 12,
   "id": "81a3fc0c",
   "metadata": {},
   "outputs": [
    {
     "name": "stdout",
     "output_type": "stream",
     "text": [
      "(24.8,)\n",
      "(28.4,)\n",
      "(27.9,)\n",
      "(27.6,)\n",
      "(4.2,)\n",
      "(8.3,)\n",
      "(15.7,)\n",
      "(10.4,)\n",
      "(13.6,)\n",
      "(20.7,)\n",
      "(27.7,)\n",
      "(22.2,)\n"
     ]
    }
   ],
   "source": [
    "cur.execute('SELECT Temperature FROM weather')\n",
    "content=cur.fetchall()\n",
    "for cells in content:\n",
    "    print(cells)"
   ]
  },
  {
   "cell_type": "markdown",
   "id": "a3e3d9ad",
   "metadata": {},
   "source": [
    "### 8b"
   ]
  },
  {
   "cell_type": "code",
   "execution_count": 13,
   "id": "9bdc7318",
   "metadata": {},
   "outputs": [
    {
     "name": "stdout",
     "output_type": "stream",
     "text": [
      "('Mumbai',)\n",
      "('London',)\n",
      "('Cairo',)\n"
     ]
    }
   ],
   "source": [
    "cur.execute('SELECT DISTINCT City FROM weather')\n",
    "content=cur.fetchall()\n",
    "for cells in content:\n",
    "    print(cells)"
   ]
  },
  {
   "cell_type": "markdown",
   "id": "0d01de52",
   "metadata": {},
   "source": [
    "### 8c"
   ]
  },
  {
   "cell_type": "code",
   "execution_count": 14,
   "id": "8178d1fd",
   "metadata": {},
   "outputs": [
    {
     "name": "stdout",
     "output_type": "stream",
     "text": [
      "('Mumbai', 'India', 'Winter', 24.8, 5.9)\n",
      "('Mumbai', 'India', 'Spring', 28.4, 16.2)\n",
      "('Mumbai', 'India', 'Summer', 27.9, 1549.4)\n",
      "('Mumbai', 'India', 'Fall', 27.6, 346.0)\n"
     ]
    }
   ],
   "source": [
    "cur.execute('SELECT * FROM weather WHERE Country=\"India\"')\n",
    "content=cur.fetchall()\n",
    "for cells in content:\n",
    "    print(cells)"
   ]
  },
  {
   "cell_type": "markdown",
   "id": "96a2bd9c",
   "metadata": {},
   "source": [
    "### 8d"
   ]
  },
  {
   "cell_type": "code",
   "execution_count": 15,
   "id": "b0c1da49",
   "metadata": {},
   "outputs": [
    {
     "name": "stdout",
     "output_type": "stream",
     "text": [
      "('Mumbai', 'India', 'Fall', 27.6, 346.0)\n",
      "('London', 'United Kingdom', 'Fall', 10.4, 218.5)\n",
      "('Cairo', 'Egypt', 'Fall', 22.2, 4.5)\n"
     ]
    }
   ],
   "source": [
    "cur.execute('SELECT * FROM weather WHERE Season=\"Fall\"')\n",
    "content=cur.fetchall()\n",
    "for cells in content:\n",
    "    print(cells)"
   ]
  },
  {
   "cell_type": "markdown",
   "id": "a5fa60c8",
   "metadata": {},
   "source": [
    "### 8e"
   ]
  },
  {
   "cell_type": "code",
   "execution_count": 16,
   "id": "21a8dcaf",
   "metadata": {},
   "outputs": [
    {
     "name": "stdout",
     "output_type": "stream",
     "text": [
      "('Mumbai', 'India', 'Fall')\n",
      "('London', 'United Kingdom', 'Winter')\n",
      "('London', 'United Kingdom', 'Fall')\n"
     ]
    }
   ],
   "source": [
    "cur.execute('SELECT City, Country, Season FROM weather WHERE Rainfall BETWEEN 200 AND 400 ')\n",
    "content=cur.fetchall()\n",
    "for cells in content:\n",
    "    print(cells)"
   ]
  },
  {
   "cell_type": "markdown",
   "id": "092a209e",
   "metadata": {},
   "source": [
    "### 8f"
   ]
  },
  {
   "cell_type": "code",
   "execution_count": 17,
   "id": "9b43deae",
   "metadata": {},
   "outputs": [
    {
     "name": "stdout",
     "output_type": "stream",
     "text": [
      "('Cairo', 'Egypt')\n",
      "('Mumbai', 'India')\n"
     ]
    }
   ],
   "source": [
    "cur.execute('SELECT City, Country FROM weather WHERE Season = \"Fall\" AND Temperature > 20 ORDER BY Temperature ASC ')\n",
    "content=cur.fetchall()\n",
    "for cells in content:\n",
    "    print(cells)"
   ]
  },
  {
   "cell_type": "markdown",
   "id": "6818b520",
   "metadata": {},
   "source": [
    "### 8g"
   ]
  },
  {
   "cell_type": "code",
   "execution_count": 18,
   "id": "718893d7",
   "metadata": {},
   "outputs": [
    {
     "name": "stdout",
     "output_type": "stream",
     "text": [
      "(27.6,)\n"
     ]
    }
   ],
   "source": [
    "cur.execute('SELECT SUM(Rainfall) FROM weather WHERE City = \"Cairo\"')\n",
    "content=cur.fetchall()\n",
    "for cells in content:\n",
    "    print(cells)"
   ]
  },
  {
   "cell_type": "markdown",
   "id": "7b950f03",
   "metadata": {},
   "source": [
    "### 8h"
   ]
  },
  {
   "cell_type": "code",
   "execution_count": 19,
   "id": "bd317468",
   "metadata": {},
   "outputs": [
    {
     "name": "stdout",
     "output_type": "stream",
     "text": [
      "(569.0,)\n",
      "(192.29999999999998,)\n",
      "(1706.5,)\n",
      "(230.1,)\n"
     ]
    }
   ],
   "source": [
    "cur.execute('SELECT SUM(Rainfall) FROM weather GROUP BY Season')\n",
    "content=cur.fetchall()\n",
    "for cells in content:\n",
    "    print(cells)"
   ]
  },
  {
   "cell_type": "markdown",
   "id": "859720d3",
   "metadata": {},
   "source": [
    "### Question 9\n",
    "### Suppose list words is defined as follows:\n",
    "#### >>> words = ['The', 'quick', 'brown', 'fox', 'jumps', 'over','the', 'lazy', 'dog']\n",
    "### Write list comprehension expressions that use list words and generate the following lists:\n",
    "#### a) ['THE', 'QUICK', 'BROWN', 'FOX', 'JUMPS', 'OVER', 'THE','LAZY', 'DOG']<br><br>b) ['the', 'quick', 'brown', 'fox', 'jumps', 'over', 'the','lazy', 'dog']<br><br>c) [3, 5, 5, 3, 5, 4, 3, 4, 3] (the list of lengths of words in list words).<br><br>d) [['THE', 'the', 3], ['QUICK', 'quick', 5], ['BROWN','brown', 5], ['FOX', 'fox', 3], ['JUMPS', 'jumps', 5],['OVER', 'over', 4], ['THE', 'the', 3], ['LAZY', 'lazy',4], ['DOG', 'dog', 3]] (the list containing a list for every word of list words, where each list contains the word in uppercase and lowercase and the length of the word.)<br><br>e) ['The', 'quick', 'brown', 'fox', 'jumps', 'over', 'the','lazy', 'dog'] (the list of words in list words containing 4 or more characters.)"
   ]
  },
  {
   "cell_type": "code",
   "execution_count": 1,
   "id": "2be25f07",
   "metadata": {},
   "outputs": [],
   "source": [
    " words = ['The', 'quick', 'brown', 'fox', 'jumps', 'over','the', 'lazy', 'dog']"
   ]
  },
  {
   "cell_type": "code",
   "execution_count": 3,
   "id": "a2699972",
   "metadata": {},
   "outputs": [
    {
     "name": "stdout",
     "output_type": "stream",
     "text": [
      "a)  ['THE', 'QUICK', 'BROWN', 'FOX', 'JUMPS', 'OVER', 'THE', 'LAZY', 'DOG']\n"
     ]
    }
   ],
   "source": [
    "uppercase_words = [word.upper() for word in words]\n",
    "print(\"a) \",uppercase_words)"
   ]
  },
  {
   "cell_type": "code",
   "execution_count": 4,
   "id": "290ccd81",
   "metadata": {},
   "outputs": [
    {
     "name": "stdout",
     "output_type": "stream",
     "text": [
      "b)  ['the', 'quick', 'brown', 'fox', 'jumps', 'over', 'the', 'lazy', 'dog']\n"
     ]
    }
   ],
   "source": [
    "lowercase_words = [word.lower() for word in words]\n",
    "print(\"b) \",lowercase_words)"
   ]
  },
  {
   "cell_type": "code",
   "execution_count": 6,
   "id": "642e5bba",
   "metadata": {},
   "outputs": [
    {
     "name": "stdout",
     "output_type": "stream",
     "text": [
      "c)  [3, 5, 5, 3, 5, 4, 3, 4, 3]\n"
     ]
    }
   ],
   "source": [
    "word_lengths = [len(word) for word in words]\n",
    "print(\"c) \",word_lengths)"
   ]
  },
  {
   "cell_type": "code",
   "execution_count": 7,
   "id": "92980f45",
   "metadata": {},
   "outputs": [
    {
     "name": "stdout",
     "output_type": "stream",
     "text": [
      "d)  [['THE', 'the', 3], ['QUICK', 'quick', 5], ['BROWN', 'brown', 5], ['FOX', 'fox', 3], ['JUMPS', 'jumps', 5], ['OVER', 'over', 4], ['THE', 'the', 3], ['LAZY', 'lazy', 4], ['DOG', 'dog', 3]]\n"
     ]
    }
   ],
   "source": [
    "word_info = [[word.upper(), word.lower(), len(word)] for word in words]\n",
    "print(\"d) \",word_info)"
   ]
  },
  {
   "cell_type": "code",
   "execution_count": 8,
   "id": "2b017592",
   "metadata": {},
   "outputs": [
    {
     "name": "stdout",
     "output_type": "stream",
     "text": [
      "e)  ['quick', 'brown', 'jumps', 'over', 'lazy']\n"
     ]
    }
   ],
   "source": [
    "long_words = [word for word in words if len(word) >= 4]\n",
    "print(\"e) \",long_words)"
   ]
  }
 ],
 "metadata": {
  "kernelspec": {
   "display_name": "Python 3 (ipykernel)",
   "language": "python",
   "name": "python3"
  },
  "language_info": {
   "codemirror_mode": {
    "name": "ipython",
    "version": 3
   },
   "file_extension": ".py",
   "mimetype": "text/x-python",
   "name": "python",
   "nbconvert_exporter": "python",
   "pygments_lexer": "ipython3",
   "version": "3.10.9"
  }
 },
 "nbformat": 4,
 "nbformat_minor": 5
}
